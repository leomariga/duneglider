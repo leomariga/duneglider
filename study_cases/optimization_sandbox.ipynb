{
 "cells": [
  {
   "cell_type": "markdown",
   "metadata": {},
   "source": [
    "# Optimizer sandbox\n",
    "\n",
    "Just a sandbox to test different types of python optimizer."
   ]
  },
  {
   "cell_type": "code",
   "execution_count": 1,
   "metadata": {},
   "outputs": [
    {
     "name": "stdout",
     "output_type": "stream",
     "text": [
      "['requested number of basinhopping iterations completed successfully']\n",
      "[0.5  0.25]\n",
      "0.25\n"
     ]
    }
   ],
   "source": [
    "import scipy.optimize\n",
    "\n",
    "def function_to_optimize(x):\n",
    "    return 100*(x[1]-x[0]**2)**2+(1-x[0])**2\n",
    "    \n",
    "\n",
    "#xopt = scipy.optimize.fmin(func=function_to_optimize, x0=[-1.2,1])\n",
    "minimizer_kwargs = {\"method\": \"L-BFGS-B\", \"bounds\":[(-0.5, 0.5), (-10, 10)]}\n",
    "xopt = scipy.optimize.basinhopping(function_to_optimize, x0=[-1.2,1], minimizer_kwargs=minimizer_kwargs)\n",
    "\n",
    "#xopt = scipy.optimize.minimize(fun=function_to_optimize, x0=[-1.2,1], method=\"BFGS\", bounds=[(-0.5, 0.5), (-10, 10)])\n",
    "print(xopt.message)\n",
    "print(xopt.x)\n",
    "print(xopt.fun)"
   ]
  }
 ],
 "metadata": {
  "kernelspec": {
   "display_name": "duneglider-zUzn2rQi-py3.12",
   "language": "python",
   "name": "python3"
  },
  "language_info": {
   "codemirror_mode": {
    "name": "ipython",
    "version": 3
   },
   "file_extension": ".py",
   "mimetype": "text/x-python",
   "name": "python",
   "nbconvert_exporter": "python",
   "pygments_lexer": "ipython3",
   "version": "3.12.1"
  }
 },
 "nbformat": 4,
 "nbformat_minor": 2
}

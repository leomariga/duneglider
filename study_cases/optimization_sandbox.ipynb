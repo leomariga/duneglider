{
 "cells": [
  {
   "cell_type": "markdown",
   "metadata": {},
   "source": [
    "# Optimizer sandbox\n",
    "\n",
    "Just a sandbox to test different types of python optimizer."
   ]
  },
  {
   "cell_type": "markdown",
   "metadata": {},
   "source": [
    "## Basinhopping example"
   ]
  },
  {
   "cell_type": "code",
   "execution_count": 1,
   "metadata": {},
   "outputs": [
    {
     "name": "stdout",
     "output_type": "stream",
     "text": [
      "['requested number of basinhopping iterations completed successfully']\n",
      "[0.5  0.25]\n",
      "0.25\n"
     ]
    }
   ],
   "source": [
    "import scipy.optimize\n",
    "\n",
    "def function_to_optimize(x):\n",
    "    return 100*(x[1]-x[0]**2)**2+(1-x[0])**2\n",
    "    \n",
    "\n",
    "#xopt = scipy.optimize.fmin(func=function_to_optimize, x0=[-1.2,1])\n",
    "minimizer_kwargs = {\"method\": \"L-BFGS-B\", \"bounds\":[(-0.5, 0.5), (-10, 10)]}\n",
    "xopt = scipy.optimize.basinhopping(function_to_optimize, x0=[-1.2,1], minimizer_kwargs=minimizer_kwargs)\n",
    "\n",
    "#xopt = scipy.optimize.minimize(fun=function_to_optimize, x0=[-1.2,1], method=\"BFGS\", bounds=[(-0.5, 0.5), (-10, 10)])\n",
    "print(xopt.message)\n",
    "print(xopt.x)\n",
    "print(xopt.fun)"
   ]
  },
  {
   "cell_type": "markdown",
   "metadata": {},
   "source": [
    "## Basing hopping displaying local minimum"
   ]
  },
  {
   "cell_type": "code",
   "execution_count": 1,
   "metadata": {},
   "outputs": [
    {
     "name": "stdout",
     "output_type": "stream",
     "text": [
      "Local Minimum: x = [0.], f(x) = 0.0\n",
      "Local Minimum: x = [-3.11970782e-08], f(x) = 3.017098829861218e-15\n",
      "Local Minimum: x = [-7.44751351e-09], f(x) = 1.719429184235944e-16\n",
      "Local Minimum: x = [-7.46063485e-09], f(x) = 1.7254932427799657e-16\n",
      "Local Minimum: x = [-7.45166602e-09], f(x) = 1.7213471225299125e-16\n",
      "Local Minimum: x = [-7.45643665e-09], f(x) = 1.7235518732079637e-16\n",
      "Local Minimum: x = [-7.44915194e-09], f(x) = 1.72018580412061e-16\n",
      "Local Minimum: x = [9.27860615e-08], f(x) = 2.6688684972034008e-14\n",
      "Local Minimum: x = [-7.42559279e-09], f(x) = 1.709322278526828e-16\n",
      "Local Minimum: x = [-5.64608468e-08], f(x) = 9.882264376222138e-15\n",
      "Local Minimum: x = [7.30360009e-08], f(x) = 1.653619801473514e-14\n",
      "Local Minimum: x = [-3.73343295e-09], f(x) = 4.320941694223386e-17\n",
      "Local Minimum: x = [-7.55619419e-09], f(x) = 1.7699781882647182e-16\n",
      "Local Minimum: x = [-7.35247993e-09], f(x) = 1.6758277967825097e-16\n",
      "Local Minimum: x = [-4.87387118e-08], f(x) = 7.36393227877527e-15\n",
      "Local Minimum: x = [-7.45023663e-09], f(x) = 1.7206868003557994e-16\n",
      "Local Minimum: x = [1.95858668e-07], f(x) = 1.1891791477921648e-13\n",
      "Local Minimum: x = [-7.16303757e-07], f(x) = 1.59058232321478e-12\n",
      "Local Minimum: x = [-8.08625506e-09], f(x) = 2.0270131472828236e-16\n",
      "Local Minimum: x = [1.22168448e-07], f(x) = 4.626790185909916e-14\n",
      "Local Minimum: x = [-7.45051276e-09], f(x) = 1.7208143499444804e-16\n",
      "Local Minimum: x = [-8.78455485e-07], f(x) = 2.3922205230360276e-12\n",
      "Local Minimum: x = [-6.63632085e-09], f(x) = 1.365263386185806e-16\n",
      "Local Minimum: x = [-3.19810517e-08], f(x) = 3.1706417711689655e-15\n",
      "Local Minimum: x = [7.05992938e-07], f(x) = 1.5451206895064629e-12\n",
      "Local Minimum: x = [-7.45097933e-09], f(x) = 1.7210298820295492e-16\n",
      "Local Minimum: x = [-1.05523954e-08], f(x) = 3.451944486910911e-16\n",
      "Local Minimum: x = [-1.21213216e-07], f(x) = 4.5547195682398786e-14\n",
      "Local Minimum: x = [-4.09625559e-10], f(x) = 5.201586050078224e-19\n",
      "Local Minimum: x = [-7.45704569e-09], f(x) = 1.723833440833463e-16\n",
      "Local Minimum: x = [1.37863804e-07], f(x) = 5.891992860558954e-14\n",
      "Local Minimum: x = [-5.40399749e-08], f(x) = 9.052988534354779e-15\n",
      "Local Minimum: x = [-7.41415511e-09], f(x) = 1.7040605767502273e-16\n",
      "Local Minimum: x = [-3.32388053e-09], f(x) = 3.424936347753964e-17\n",
      "Local Minimum: x = [-7.45077633e-09], f(x) = 1.7209361073596967e-16\n",
      "Local Minimum: x = [3.97381244e-09], f(x) = 4.895267449060617e-17\n",
      "Local Minimum: x = [-1.16810008e-06], f(x) = 4.2298191750366255e-12\n",
      "Local Minimum: x = [3.48621205e-09], f(x) = 3.767639075367643e-17\n",
      "Local Minimum: x = [-6.08603712e-07], f(x) = 1.1482352828829774e-12\n",
      "Local Minimum: x = [-6.9766752e-07], f(x) = 1.5088939016899182e-12\n",
      "Local Minimum: x = [-7.45218104e-09], f(x) = 1.7215850676348445e-16\n",
      "Local Minimum: x = [-1.35856758e-09], f(x) = 5.7216881730327205e-18\n",
      "Local Minimum: x = [-7.06308516e-09], f(x) = 1.5465023321968632e-16\n",
      "Local Minimum: x = [3.69773506e-08], f(x) = 4.238705824723326e-15\n",
      "Local Minimum: x = [-4.13218271e-07], f(x) = 5.293229533606011e-13\n",
      "Local Minimum: x = [9.19748383e-07], f(x) = 2.6224049704343563e-12\n",
      "Local Minimum: x = [6.59709358e-07], f(x) = 1.3491709565386098e-12\n",
      "Local Minimum: x = [-7.52272502e-09], f(x) = 1.754333142439597e-16\n",
      "Local Minimum: x = [-5.75732368e-09], f(x) = 1.0275500536248369e-16\n",
      "Local Minimum: x = [6.98377413e-08], f(x) = 1.5119661362227908e-14\n",
      "Local Minimum: x = [-1.95969785e-08], f(x) = 1.1905288526640261e-15\n",
      "Local Minimum: x = [1.24335294e-07], f(x) = 4.7923722703747356e-14\n",
      "Local Minimum: x = [-7.44750095e-09], f(x) = 1.719423383743445e-16\n",
      "Local Minimum: x = [4.40221433e-09], f(x) = 6.007642204130234e-17\n",
      "Local Minimum: x = [4.63893167e-07], f(x) = 6.671102971230375e-13\n",
      "Local Minimum: x = [-1.51079618e-07], f(x) = 7.075765794606519e-14\n",
      "Local Minimum: x = [-7.61282659e-09], f(x) = 1.7966089895937466e-16\n",
      "Local Minimum: x = [-4.05773279e-08], f(x) = 5.104210585028001e-15\n",
      "Local Minimum: x = [-2.04448934e-08], f(x) = 1.2957803599248883e-15\n",
      "Local Minimum: x = [1.6949823e-07], f(x) = 8.906191518983051e-14\n",
      "Local Minimum: x = [-7.45098639e-09], f(x) = 1.721033144791323e-16\n",
      "Local Minimum: x = [-7.42240933e-09], f(x) = 1.707856969899045e-16\n",
      "Local Minimum: x = [-5.98069506e-09], f(x) = 1.1088301147391404e-16\n",
      "Local Minimum: x = [-1.62201016e-07], f(x) = 8.155842557977382e-14\n",
      "Local Minimum: x = [2.85086961e-08], f(x) = 2.519511827064405e-15\n",
      "Local Minimum: x = [-7.45216117e-09], f(x) = 1.7215758914242432e-16\n",
      "Local Minimum: x = [-7.72279173e-09], f(x) = 1.8488868767657278e-16\n",
      "Local Minimum: x = [-7.306973e-09], f(x) = 1.6551474883654064e-16\n",
      "Local Minimum: x = [6.11467213e-07], f(x) = 1.159065671275685e-12\n",
      "Local Minimum: x = [7.67630205e-08], f(x) = 1.826694008802709e-14\n",
      "Local Minimum: x = [-4.92317569e-08], f(x) = 7.513674250095868e-15\n",
      "Local Minimum: x = [-7.44808029e-09], f(x) = 1.7196909002975534e-16\n",
      "Local Minimum: x = [2.7672969e-09], f(x) = 2.3739589615574533e-17\n",
      "Local Minimum: x = [-2.71619037e-08], f(x) = 2.287083936438524e-15\n",
      "Local Minimum: x = [-2.35959056e-07], f(x) = 1.7259769661372642e-13\n",
      "Local Minimum: x = [-7.43881225e-09], f(x) = 1.7154137591117334e-16\n",
      "Local Minimum: x = [1.43441703e-06], f(x) = 6.378411904447147e-12\n",
      "Local Minimum: x = [-8.5864692e-07], f(x) = 2.2855510544546922e-12\n",
      "Local Minimum: x = [-7.44931409e-09], f(x) = 1.7202606948978478e-16\n",
      "Local Minimum: x = [-7.45033038e-09], f(x) = 1.720730105154313e-16\n",
      "Local Minimum: x = [-7.4506328e-09], f(x) = 1.7208698020731107e-16\n",
      "Local Minimum: x = [9.83953022e-08], f(x) = 3.0013070054971746e-14\n",
      "Local Minimum: x = [-7.45950063e-09], f(x) = 1.7249686409693636e-16\n",
      "Local Minimum: x = [-4.70264017e-07], f(x) = 6.85559562094596e-13\n",
      "Local Minimum: x = [-7.44299884e-09], f(x) = 1.7173451832091608e-16\n",
      "Local Minimum: x = [-7.4496323e-09], f(x) = 1.7204076645734888e-16\n",
      "Local Minimum: x = [-7.45370725e-09], f(x) = 1.7222903056351188e-16\n",
      "Local Minimum: x = [-7.40450015e-09], f(x) = 1.6996252944564988e-16\n",
      "Local Minimum: x = [-8.39816859e-09], f(x) = 2.1864063049448553e-16\n",
      "Local Minimum: x = [-7.43313072e-09], f(x) = 1.7127943995164837e-16\n",
      "Local Minimum: x = [7.42252918e-07], f(x) = 1.707912120435962e-12\n",
      "Local Minimum: x = [-1.09392289e-06], f(x) = 3.709668630519152e-12\n",
      "Local Minimum: x = [-4.47881408e-08], f(x) = 6.218530430639837e-15\n",
      "Local Minimum: x = [-7.45736237e-09], f(x) = 1.7239798596233015e-16\n",
      "Local Minimum: x = [3.66800635e-08], f(x) = 4.170823872333655e-15\n",
      "Local Minimum: x = [-3.05797657e-07], f(x) = 2.8988784252034473e-13\n",
      "Local Minimum: x = [-7.44293532e-09], f(x) = 1.7173158701823147e-16\n",
      "Local Minimum: x = [4.51950779e-08], f(x) = 6.332044712602567e-15\n",
      "Local Minimum: x = [-7.45067692e-09], f(x) = 1.7208901854444415e-16\n",
      "Local Minimum: x = [2.16628934e-09], f(x) = 1.4547709513519134e-17\n",
      "Local Minimum: x = [-7.45219474e-09], f(x) = 1.7215913978381992e-16\n",
      "Global Minimum: x = [0.], f(x) = 0.0\n"
     ]
    }
   ],
   "source": [
    "import numpy as np\n",
    "from scipy.optimize import basinhopping\n",
    "\n",
    "# Objective function (you can replace this with your own function)\n",
    "def objective_function(x):\n",
    "    return np.sin(3 * x) * x + 0.1 * x**2\n",
    "\n",
    "# Callback function to store information about the local minimum\n",
    "def callback(x, f, accepted):\n",
    "    if accepted:\n",
    "        print(f\"Local Minimum: x = {x}, f(x) = {f}\")\n",
    "\n",
    "# Initial guess\n",
    "initial_guess = 0.0\n",
    "\n",
    "# Run basinhopping with the callback\n",
    "result = basinhopping(objective_function, x0=initial_guess, take_step=None, callback=callback)\n",
    "\n",
    "# Display the global minimum found by basinhopping\n",
    "print(\"Global Minimum: x = {}, f(x) = {}\".format(result.x, result.fun))\n"
   ]
  }
 ],
 "metadata": {
  "kernelspec": {
   "display_name": "duneglider-zUzn2rQi-py3.12",
   "language": "python",
   "name": "python3"
  },
  "language_info": {
   "codemirror_mode": {
    "name": "ipython",
    "version": 3
   },
   "file_extension": ".py",
   "mimetype": "text/x-python",
   "name": "python",
   "nbconvert_exporter": "python",
   "pygments_lexer": "ipython3",
   "version": "3.12.1"
  }
 },
 "nbformat": 4,
 "nbformat_minor": 2
}
